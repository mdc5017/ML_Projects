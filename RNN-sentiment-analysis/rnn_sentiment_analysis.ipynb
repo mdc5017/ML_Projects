{
 "cells": [
  {
   "cell_type": "markdown",
   "metadata": {},
   "source": [
    "## RNN for Sentiment Analysis"
   ]
  },
  {
   "cell_type": "code",
   "execution_count": 1,
   "metadata": {},
   "outputs": [
    {
     "name": "stderr",
     "output_type": "stream",
     "text": [
      "2023-10-31 18:46:55.525492: I tensorflow/core/platform/cpu_feature_guard.cc:193] This TensorFlow binary is optimized with oneAPI Deep Neural Network Library (oneDNN) to use the following CPU instructions in performance-critical operations:  AVX2 FMA\n",
      "To enable them in other operations, rebuild TensorFlow with the appropriate compiler flags.\n"
     ]
    }
   ],
   "source": [
    "from keras.utils.data_utils import pad_sequences\n",
    "from keras.models import Sequential\n",
    "from keras.layers import Dense, Embedding, LSTM\n",
    "from keras.datasets import imdb"
   ]
  },
  {
   "cell_type": "markdown",
   "metadata": {},
   "source": [
    "## Load Data"
   ]
  },
  {
   "cell_type": "code",
   "execution_count": 2,
   "metadata": {},
   "outputs": [
    {
     "name": "stdout",
     "output_type": "stream",
     "text": [
      "Loading data...\n"
     ]
    }
   ],
   "source": [
    "print('Loading data...')\n",
    "(X_train, y_train),(X_test, y_test) = imdb.load_data(num_words=20000)"
   ]
  },
  {
   "cell_type": "code",
   "execution_count": 3,
   "metadata": {},
   "outputs": [
    {
     "data": {
      "text/plain": [
       "[1,\n",
       " 14,\n",
       " 22,\n",
       " 16,\n",
       " 43,\n",
       " 530,\n",
       " 973,\n",
       " 1622,\n",
       " 1385,\n",
       " 65,\n",
       " 458,\n",
       " 4468,\n",
       " 66,\n",
       " 3941,\n",
       " 4,\n",
       " 173,\n",
       " 36,\n",
       " 256,\n",
       " 5,\n",
       " 25,\n",
       " 100,\n",
       " 43,\n",
       " 838,\n",
       " 112,\n",
       " 50,\n",
       " 670,\n",
       " 2,\n",
       " 9,\n",
       " 35,\n",
       " 480,\n",
       " 284,\n",
       " 5,\n",
       " 150,\n",
       " 4,\n",
       " 172,\n",
       " 112,\n",
       " 167,\n",
       " 2,\n",
       " 336,\n",
       " 385,\n",
       " 39,\n",
       " 4,\n",
       " 172,\n",
       " 4536,\n",
       " 1111,\n",
       " 17,\n",
       " 546,\n",
       " 38,\n",
       " 13,\n",
       " 447,\n",
       " 4,\n",
       " 192,\n",
       " 50,\n",
       " 16,\n",
       " 6,\n",
       " 147,\n",
       " 2025,\n",
       " 19,\n",
       " 14,\n",
       " 22,\n",
       " 4,\n",
       " 1920,\n",
       " 4613,\n",
       " 469,\n",
       " 4,\n",
       " 22,\n",
       " 71,\n",
       " 87,\n",
       " 12,\n",
       " 16,\n",
       " 43,\n",
       " 530,\n",
       " 38,\n",
       " 76,\n",
       " 15,\n",
       " 13,\n",
       " 1247,\n",
       " 4,\n",
       " 22,\n",
       " 17,\n",
       " 515,\n",
       " 17,\n",
       " 12,\n",
       " 16,\n",
       " 626,\n",
       " 18,\n",
       " 19193,\n",
       " 5,\n",
       " 62,\n",
       " 386,\n",
       " 12,\n",
       " 8,\n",
       " 316,\n",
       " 8,\n",
       " 106,\n",
       " 5,\n",
       " 4,\n",
       " 2223,\n",
       " 5244,\n",
       " 16,\n",
       " 480,\n",
       " 66,\n",
       " 3785,\n",
       " 33,\n",
       " 4,\n",
       " 130,\n",
       " 12,\n",
       " 16,\n",
       " 38,\n",
       " 619,\n",
       " 5,\n",
       " 25,\n",
       " 124,\n",
       " 51,\n",
       " 36,\n",
       " 135,\n",
       " 48,\n",
       " 25,\n",
       " 1415,\n",
       " 33,\n",
       " 6,\n",
       " 22,\n",
       " 12,\n",
       " 215,\n",
       " 28,\n",
       " 77,\n",
       " 52,\n",
       " 5,\n",
       " 14,\n",
       " 407,\n",
       " 16,\n",
       " 82,\n",
       " 10311,\n",
       " 8,\n",
       " 4,\n",
       " 107,\n",
       " 117,\n",
       " 5952,\n",
       " 15,\n",
       " 256,\n",
       " 4,\n",
       " 2,\n",
       " 7,\n",
       " 3766,\n",
       " 5,\n",
       " 723,\n",
       " 36,\n",
       " 71,\n",
       " 43,\n",
       " 530,\n",
       " 476,\n",
       " 26,\n",
       " 400,\n",
       " 317,\n",
       " 46,\n",
       " 7,\n",
       " 4,\n",
       " 12118,\n",
       " 1029,\n",
       " 13,\n",
       " 104,\n",
       " 88,\n",
       " 4,\n",
       " 381,\n",
       " 15,\n",
       " 297,\n",
       " 98,\n",
       " 32,\n",
       " 2071,\n",
       " 56,\n",
       " 26,\n",
       " 141,\n",
       " 6,\n",
       " 194,\n",
       " 7486,\n",
       " 18,\n",
       " 4,\n",
       " 226,\n",
       " 22,\n",
       " 21,\n",
       " 134,\n",
       " 476,\n",
       " 26,\n",
       " 480,\n",
       " 5,\n",
       " 144,\n",
       " 30,\n",
       " 5535,\n",
       " 18,\n",
       " 51,\n",
       " 36,\n",
       " 28,\n",
       " 224,\n",
       " 92,\n",
       " 25,\n",
       " 104,\n",
       " 4,\n",
       " 226,\n",
       " 65,\n",
       " 16,\n",
       " 38,\n",
       " 1334,\n",
       " 88,\n",
       " 12,\n",
       " 16,\n",
       " 283,\n",
       " 5,\n",
       " 16,\n",
       " 4472,\n",
       " 113,\n",
       " 103,\n",
       " 32,\n",
       " 15,\n",
       " 16,\n",
       " 5345,\n",
       " 19,\n",
       " 178,\n",
       " 32]"
      ]
     },
     "execution_count": 3,
     "metadata": {},
     "output_type": "execute_result"
    }
   ],
   "source": [
    "X_train[0]"
   ]
  },
  {
   "cell_type": "code",
   "execution_count": 4,
   "metadata": {},
   "outputs": [
    {
     "data": {
      "text/plain": [
       "1"
      ]
     },
     "execution_count": 4,
     "metadata": {},
     "output_type": "execute_result"
    }
   ],
   "source": [
    "y_train[0]"
   ]
  },
  {
   "cell_type": "code",
   "execution_count": 5,
   "metadata": {},
   "outputs": [],
   "source": [
    "X_train = pad_sequences(X_train, maxlen=200)\n",
    "X_test = pad_sequences(X_test, maxlen=200)"
   ]
  },
  {
   "cell_type": "markdown",
   "metadata": {},
   "source": [
    "## Model"
   ]
  },
  {
   "cell_type": "code",
   "execution_count": 6,
   "metadata": {},
   "outputs": [
    {
     "name": "stderr",
     "output_type": "stream",
     "text": [
      "2023-10-31 18:47:06.240083: I tensorflow/core/platform/cpu_feature_guard.cc:193] This TensorFlow binary is optimized with oneAPI Deep Neural Network Library (oneDNN) to use the following CPU instructions in performance-critical operations:  AVX2 FMA\n",
      "To enable them in other operations, rebuild TensorFlow with the appropriate compiler flags.\n"
     ]
    }
   ],
   "source": [
    "model = Sequential()\n",
    "model.add(Embedding(20000, 128))\n",
    "model.add(LSTM(128, dropout=0.2, recurrent_dropout=0.2))\n",
    "model.add(Dense(1, activation='sigmoid'))"
   ]
  },
  {
   "cell_type": "code",
   "execution_count": 7,
   "metadata": {},
   "outputs": [],
   "source": [
    "model.compile(loss='binary_crossentropy',\n",
    "              optimizer='adam',\n",
    "              metrics=['accuracy'])"
   ]
  },
  {
   "cell_type": "code",
   "execution_count": 8,
   "metadata": {},
   "outputs": [
    {
     "name": "stdout",
     "output_type": "stream",
     "text": [
      "Epoch 1/25\n",
      "782/782 - 292s - loss: 0.4273 - accuracy: 0.8034 - val_loss: 0.3292 - val_accuracy: 0.8649 - 292s/epoch - 373ms/step\n",
      "Epoch 2/25\n",
      "782/782 - 287s - loss: 0.2471 - accuracy: 0.9037 - val_loss: 0.3695 - val_accuracy: 0.8418 - 287s/epoch - 367ms/step\n",
      "Epoch 3/25\n",
      "782/782 - 279s - loss: 0.2250 - accuracy: 0.9139 - val_loss: 0.3757 - val_accuracy: 0.8386 - 279s/epoch - 356ms/step\n",
      "Epoch 4/25\n",
      "782/782 - 281s - loss: 0.1957 - accuracy: 0.9240 - val_loss: 0.3548 - val_accuracy: 0.8636 - 281s/epoch - 360ms/step\n",
      "Epoch 5/25\n",
      "782/782 - 288s - loss: 0.1265 - accuracy: 0.9560 - val_loss: 0.4111 - val_accuracy: 0.8655 - 288s/epoch - 369ms/step\n",
      "Epoch 6/25\n",
      "782/782 - 284s - loss: 0.0623 - accuracy: 0.9780 - val_loss: 0.5002 - val_accuracy: 0.8592 - 284s/epoch - 364ms/step\n",
      "Epoch 7/25\n",
      "782/782 - 320s - loss: 0.0411 - accuracy: 0.9868 - val_loss: 0.5041 - val_accuracy: 0.8597 - 320s/epoch - 410ms/step\n",
      "Epoch 8/25\n",
      "782/782 - 302s - loss: 0.0245 - accuracy: 0.9923 - val_loss: 0.6441 - val_accuracy: 0.8578 - 302s/epoch - 387ms/step\n",
      "Epoch 9/25\n",
      "782/782 - 305s - loss: 0.0217 - accuracy: 0.9932 - val_loss: 0.6514 - val_accuracy: 0.8582 - 305s/epoch - 390ms/step\n",
      "Epoch 10/25\n",
      "782/782 - 271s - loss: 0.0196 - accuracy: 0.9933 - val_loss: 0.7461 - val_accuracy: 0.8574 - 271s/epoch - 347ms/step\n",
      "Epoch 11/25\n",
      "782/782 - 269s - loss: 0.0129 - accuracy: 0.9963 - val_loss: 0.8350 - val_accuracy: 0.8457 - 269s/epoch - 344ms/step\n",
      "Epoch 12/25\n",
      "782/782 - 271s - loss: 0.0110 - accuracy: 0.9968 - val_loss: 0.7452 - val_accuracy: 0.8488 - 271s/epoch - 346ms/step\n",
      "Epoch 13/25\n",
      "782/782 - 286s - loss: 0.0098 - accuracy: 0.9968 - val_loss: 0.8485 - val_accuracy: 0.8533 - 286s/epoch - 366ms/step\n",
      "Epoch 14/25\n",
      "782/782 - 269s - loss: 0.0095 - accuracy: 0.9974 - val_loss: 0.9349 - val_accuracy: 0.8376 - 269s/epoch - 344ms/step\n",
      "Epoch 15/25\n",
      "782/782 - 267s - loss: 0.0082 - accuracy: 0.9974 - val_loss: 0.8843 - val_accuracy: 0.8514 - 267s/epoch - 342ms/step\n",
      "Epoch 16/25\n",
      "782/782 - 261s - loss: 0.0063 - accuracy: 0.9982 - val_loss: 0.8876 - val_accuracy: 0.8516 - 261s/epoch - 334ms/step\n",
      "Epoch 17/25\n",
      "782/782 - 262s - loss: 0.0040 - accuracy: 0.9987 - val_loss: 0.9121 - val_accuracy: 0.8466 - 262s/epoch - 334ms/step\n",
      "Epoch 18/25\n",
      "782/782 - 281s - loss: 0.0046 - accuracy: 0.9988 - val_loss: 0.9890 - val_accuracy: 0.8488 - 281s/epoch - 359ms/step\n",
      "Epoch 19/25\n",
      "782/782 - 271s - loss: 0.0045 - accuracy: 0.9984 - val_loss: 0.9901 - val_accuracy: 0.8498 - 271s/epoch - 346ms/step\n",
      "Epoch 20/25\n",
      "782/782 - 277s - loss: 0.0033 - accuracy: 0.9990 - val_loss: 1.0704 - val_accuracy: 0.8512 - 277s/epoch - 354ms/step\n",
      "Epoch 21/25\n",
      "782/782 - 278s - loss: 0.0020 - accuracy: 0.9993 - val_loss: 1.0732 - val_accuracy: 0.8460 - 278s/epoch - 355ms/step\n",
      "Epoch 22/25\n",
      "782/782 - 314s - loss: 0.0033 - accuracy: 0.9992 - val_loss: 1.0380 - val_accuracy: 0.8460 - 314s/epoch - 401ms/step\n",
      "Epoch 23/25\n",
      "782/782 - 348s - loss: 0.0024 - accuracy: 0.9994 - val_loss: 1.1140 - val_accuracy: 0.8472 - 348s/epoch - 445ms/step\n",
      "Epoch 24/25\n",
      "782/782 - 367s - loss: 9.9126e-04 - accuracy: 0.9998 - val_loss: 1.1987 - val_accuracy: 0.8479 - 367s/epoch - 469ms/step\n",
      "Epoch 25/25\n",
      "782/782 - 348s - loss: 0.0036 - accuracy: 0.9990 - val_loss: 1.1451 - val_accuracy: 0.8462 - 348s/epoch - 445ms/step\n"
     ]
    },
    {
     "data": {
      "text/plain": [
       "<keras.callbacks.History at 0x7f8465dde7f0>"
      ]
     },
     "execution_count": 8,
     "metadata": {},
     "output_type": "execute_result"
    }
   ],
   "source": [
    "model.fit(X_train, y_train,\n",
    "          batch_size=32,\n",
    "          epochs=25,\n",
    "          verbose=2,\n",
    "          validation_data=(X_test, y_test))"
   ]
  },
  {
   "cell_type": "code",
   "execution_count": 9,
   "metadata": {},
   "outputs": [
    {
     "name": "stdout",
     "output_type": "stream",
     "text": [
      "782/782 - 34s - loss: 1.1451 - accuracy: 0.8462 - 34s/epoch - 44ms/step\n",
      "Test score: 1.1450697183609009\n",
      "Test accuracy: 0.8461599946022034\n"
     ]
    }
   ],
   "source": [
    "score, acc = model.evaluate(X_test, y_test, batch_size=32, verbose=2)\n",
    "print('Test score:', score)\n",
    "print('Test accuracy:', acc)"
   ]
  }
 ],
 "metadata": {
  "kernelspec": {
   "display_name": "ds-env",
   "language": "python",
   "name": "python3"
  },
  "language_info": {
   "codemirror_mode": {
    "name": "ipython",
    "version": 3
   },
   "file_extension": ".py",
   "mimetype": "text/x-python",
   "name": "python",
   "nbconvert_exporter": "python",
   "pygments_lexer": "ipython3",
   "version": "3.9.13"
  },
  "orig_nbformat": 4
 },
 "nbformat": 4,
 "nbformat_minor": 2
}
